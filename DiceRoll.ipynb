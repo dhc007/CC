{
  "nbformat": 4,
  "nbformat_minor": 0,
  "metadata": {
    "colab": {
      "provenance": [],
      "authorship_tag": "ABX9TyP9aJc7qDJe3vMg/TyvuSU4",
      "include_colab_link": true
    },
    "kernelspec": {
      "name": "python3",
      "display_name": "Python 3"
    },
    "language_info": {
      "name": "python"
    }
  },
  "cells": [
    {
      "cell_type": "markdown",
      "metadata": {
        "id": "view-in-github",
        "colab_type": "text"
      },
      "source": [
        "<a href=\"https://colab.research.google.com/github/dhc007/CC/blob/main/DiceRoll.ipynb\" target=\"_parent\"><img src=\"https://colab.research.google.com/assets/colab-badge.svg\" alt=\"Open In Colab\"/></a>"
      ]
    },
    {
      "cell_type": "code",
      "execution_count": 1,
      "metadata": {
        "id": "JEuRrJh6IVZ5",
        "colab": {
          "base_uri": "https://localhost:8080/"
        },
        "outputId": "2fe5f6b2-85f4-44b9-fa9e-4c38a392e9b8"
      },
      "outputs": [
        {
          "name": "stdout",
          "output_type": "stream",
          "text": [
            "Now Rolling the dice...\n",
            "Number on the dice is: \n",
            "6\n",
            "Are you interested to Roll the dice again? y\n",
            "Now Rolling the dice...\n",
            "Number on the dice is: \n",
            "6\n",
            "Are you interested to Roll the dice again? n\n"
          ]
        }
      ],
      "source": [
        "# import random module\n",
        "import random\n",
        "\n",
        "# Minimum and Maximum numbers on the dice are 1 and 6.\n",
        "min = 1\n",
        "max = 6\n",
        "\n",
        "# Setting the default value of flag to yes.\n",
        "Flag = \"yes\"\n",
        "\n",
        "while Flag == \"yes\" or Flag == \"y\":\n",
        "    print(\"Now Rolling the dice...\")\n",
        "    print (\"Number on the dice is: \")\n",
        "    print(random.randint(min, max))\n",
        "    Flag = input(\"Are you interested to Roll the dice again? \")"
      ]
    }
  ]
}